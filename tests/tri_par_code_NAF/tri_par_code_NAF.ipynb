{
 "metadata": {
  "language_info": {
   "codemirror_mode": {
    "name": "ipython",
    "version": 3
   },
   "file_extension": ".py",
   "mimetype": "text/x-python",
   "name": "python",
   "nbconvert_exporter": "python",
   "pygments_lexer": "ipython3",
   "version": "3.8.5-final"
  },
  "orig_nbformat": 2,
  "kernelspec": {
   "name": "python385jvsc74a57bd04d642e39cd6ab4043b725cfae5fa8c34d89fcf0897ff7aa653494a641a215366",
   "display_name": "Python 3.8.5 64-bit (conda)"
  }
 },
 "nbformat": 4,
 "nbformat_minor": 2,
 "cells": [
  {
   "source": [
    "# Tri par code NAF"
   ],
   "cell_type": "markdown",
   "metadata": {}
  },
  {
   "source": [
    "On va essayer de regrouper les données par code NAF (*i.e.* par type d'entreprise), puis clusteriser séparèment et enfin d'afficher de manière sélective avec un `leaflet.ControlLayer`\n"
   ],
   "cell_type": "markdown",
   "metadata": {}
  },
  {
   "cell_type": "code",
   "execution_count": 1,
   "metadata": {},
   "outputs": [],
   "source": [
    "import geopandas as gpd\n",
    "from numpy.lib.financial import _pv_dispatcher\n",
    "import pandas as pd\n",
    "import numpy as np\n",
    "import folium\n",
    "\n",
    "from sklearn.cluster import KMeans\n",
    "\n",
    "from shapely.geometry import Point, MultiPoint, Polygon"
   ]
  },
  {
   "cell_type": "code",
   "execution_count": 2,
   "metadata": {},
   "outputs": [],
   "source": [
    "#Utilitaire\n",
    "\n",
    "def swap_xy(geom):\n",
    "    \"\"\"\n",
    "    Inverse les coordonnées de l'objet shapely.geometry.\n",
    "    Utile pour passer objets shapely dans folium (la convention est inversée)\n",
    "    :param geom: l'objet dont on veut inverser les coordonnées (Point, Polygon, MultiPolygon, etc.)\n",
    "    :return: l'objet inversé\n",
    "    \"\"\"\n",
    "    if geom.is_empty:\n",
    "        return geom\n",
    "\n",
    "    if geom.has_z:\n",
    "        def swap_xy_coords(coords):\n",
    "            for x, y, z in coords:\n",
    "                yield (y, x, z)\n",
    "    else:\n",
    "        def swap_xy_coords(coords):\n",
    "            for x, y in coords:\n",
    "                yield (y, x)\n",
    "\n",
    "    # Process coordinates from each supported geometry type\n",
    "    if geom.type in ('Point', 'LineString', 'LinearRing'):\n",
    "        return type(geom)(list(swap_xy_coords(geom.coords)))\n",
    "\n",
    "    elif geom.type == 'Polygon':\n",
    "        ring = geom.exterior\n",
    "        shell = type(ring)(list(swap_xy_coords(ring.coords)))\n",
    "        holes = list(geom.interiors)\n",
    "\n",
    "        for pos, ring in enumerate(holes):\n",
    "            holes[pos] = type(ring)(list(swap_xy_coords(ring.coords)))\n",
    "\n",
    "        return type(geom)(shell, holes)\n",
    "\n",
    "    elif geom.type.startswith('Multi') or geom.type == 'GeometryCollection':\n",
    "        # Recursive call\n",
    "        return type(geom)([swap_xy(part) for part in geom.geoms])\n",
    "\n",
    "    else:\n",
    "        raise ValueError('Type %r not recognized' % geom.type)\n"
   ]
  },
  {
   "cell_type": "code",
   "execution_count": 3,
   "metadata": {},
   "outputs": [],
   "source": [
    "def nettoyer(df, reduce=False, threshold=1000):\n",
    "    \"\"\"\n",
    "    Nettoie la DataFrame: enlève les na\n",
    "    Si reduce=True, ne prend que les première données de la (Geo)DataFrame.\n",
    "    La limite dans ce cas est fixée à threshold (qui vaut 1000 par défaut)\n",
    "    \"\"\"\n",
    "    if reduce and df.size <= threshold:\n",
    "        df = df[:threshold]\n",
    "\n",
    "    return df.dropna(subset=[\"geometry\"]).reset_index()"
   ]
  },
  {
   "cell_type": "code",
   "execution_count": null,
   "metadata": {},
   "outputs": [],
   "source": []
  },
  {
   "cell_type": "code",
   "execution_count": 8,
   "metadata": {},
   "outputs": [
    {
     "output_type": "execute_result",
     "data": {
      "text/plain": [
       "630080"
      ]
     },
     "metadata": {},
     "execution_count": 8
    }
   ],
   "source": [
    "# On va maintenant commencer des tests : \n",
    "\n",
    "df = nettoyer(pd.read_json(\"../gis/input/base_sirene_shortened_json_cpp.json\"))\n",
    "len(df)"
   ]
  },
  {
   "cell_type": "code",
   "execution_count": 5,
   "metadata": {},
   "outputs": [
    {
     "output_type": "execute_result",
     "data": {
      "text/plain": [
       "   index apet700                 libtefet  \\\n",
       "0      0   6820A              00-0salarié   \n",
       "1      1   4932Z              00-0salarié   \n",
       "2      2   8551Z              00-0salarié   \n",
       "3      3   4321A  NN-Unitésnonemployeuses   \n",
       "4      5   7022Z              00-0salarié   \n",
       "\n",
       "                                            geometry  \n",
       "0  {'type': 'Point', 'coordinates': [2.348872, 48...  \n",
       "1  {'type': 'Point', 'coordinates': [2.396281, 48...  \n",
       "2  {'type': 'Point', 'coordinates': [2.297082, 48...  \n",
       "3  {'type': 'Point', 'coordinates': [2.428486, 48...  \n",
       "4  {'type': 'Point', 'coordinates': [2.283437, 48...  "
      ],
      "text/html": "<div>\n<style scoped>\n    .dataframe tbody tr th:only-of-type {\n        vertical-align: middle;\n    }\n\n    .dataframe tbody tr th {\n        vertical-align: top;\n    }\n\n    .dataframe thead th {\n        text-align: right;\n    }\n</style>\n<table border=\"1\" class=\"dataframe\">\n  <thead>\n    <tr style=\"text-align: right;\">\n      <th></th>\n      <th>index</th>\n      <th>apet700</th>\n      <th>libtefet</th>\n      <th>geometry</th>\n    </tr>\n  </thead>\n  <tbody>\n    <tr>\n      <th>0</th>\n      <td>0</td>\n      <td>6820A</td>\n      <td>00-0salarié</td>\n      <td>{'type': 'Point', 'coordinates': [2.348872, 48...</td>\n    </tr>\n    <tr>\n      <th>1</th>\n      <td>1</td>\n      <td>4932Z</td>\n      <td>00-0salarié</td>\n      <td>{'type': 'Point', 'coordinates': [2.396281, 48...</td>\n    </tr>\n    <tr>\n      <th>2</th>\n      <td>2</td>\n      <td>8551Z</td>\n      <td>00-0salarié</td>\n      <td>{'type': 'Point', 'coordinates': [2.297082, 48...</td>\n    </tr>\n    <tr>\n      <th>3</th>\n      <td>3</td>\n      <td>4321A</td>\n      <td>NN-Unitésnonemployeuses</td>\n      <td>{'type': 'Point', 'coordinates': [2.428486, 48...</td>\n    </tr>\n    <tr>\n      <th>4</th>\n      <td>5</td>\n      <td>7022Z</td>\n      <td>00-0salarié</td>\n      <td>{'type': 'Point', 'coordinates': [2.283437, 48...</td>\n    </tr>\n  </tbody>\n</table>\n</div>"
     },
     "metadata": {},
     "execution_count": 5
    }
   ],
   "source": [
    "df.head()"
   ]
  },
  {
   "cell_type": "code",
   "execution_count": 7,
   "metadata": {},
   "outputs": [
    {
     "output_type": "execute_result",
     "data": {
      "text/plain": [
       "682"
      ]
     },
     "metadata": {},
     "execution_count": 7
    }
   ],
   "source": [
    "len(set(df['apet700']))\n",
    "# On a 682 types d'entreprises différents"
   ]
  },
  {
   "cell_type": "code",
   "execution_count": 52,
   "metadata": {},
   "outputs": [],
   "source": [
    "# on va analyser les types les + présents : \n",
    "\n",
    "compte_par_type = {}\n",
    "for NAF in sorted(list(set(df['apet700']))):\n",
    "    compte_par_type[NAF] = 0\n",
    "\n",
    "# df.loc[0,:]['apet700']\n",
    "for i in df['index']:\n",
    "    if i == 630080:\n",
    "        break\n",
    "    ligne_consideree = df.loc[i,:]\n",
    "    compte_par_type[ligne_consideree['apet700']] += 1\n"
   ]
  },
  {
   "cell_type": "code",
   "execution_count": 25,
   "metadata": {},
   "outputs": [],
   "source": [
    "import matplotlib.pyplot as plt"
   ]
  },
  {
   "cell_type": "code",
   "execution_count": 30,
   "metadata": {},
   "outputs": [],
   "source": [
    "# plt.scatter(compte_par_type.keys(), compte_par_type.values())\n",
    "# plt.show()"
   ]
  },
  {
   "cell_type": "code",
   "execution_count": 40,
   "metadata": {},
   "outputs": [
    {
     "output_type": "execute_result",
     "data": {
      "text/plain": [
       "[18565, 22757, 24650, 36099, 64432]"
      ]
     },
     "metadata": {},
     "execution_count": 40
    }
   ],
   "source": [
    "les_5_max = sorted(list(compte_par_type.values()))[-5:]\n",
    "# sorted(list(compte_par_type.values()))\n",
    "les_5_max"
   ]
  },
  {
   "cell_type": "code",
   "execution_count": 42,
   "metadata": {},
   "outputs": [
    {
     "output_type": "execute_result",
     "data": {
      "text/plain": [
       "[('4932Z', 18565),\n",
       " ('6820A', 24650),\n",
       " ('6820B', 64432),\n",
       " ('7022Z', 36099),\n",
       " ('9499Z', 22757)]"
      ]
     },
     "metadata": {},
     "execution_count": 42
    }
   ],
   "source": [
    "liste_plus_grands = []\n",
    "for key, value in compte_par_type.items():\n",
    "    if value in les_5_max:\n",
    "        liste_plus_grands.append((key, value))\n",
    "\n",
    "    if len(liste_plus_grands) == 5:\n",
    "        break\n",
    "liste_plus_grands"
   ]
  },
  {
   "cell_type": "code",
   "execution_count": 50,
   "metadata": {},
   "outputs": [
    {
     "output_type": "display_data",
     "data": {
      "text/plain": "<Figure size 432x288 with 1 Axes>",
      "image/png": "[encoded data removed]"
     },
     "metadata": {
      "needs_background": "light"
     }
    }
   ],
   "source": [
    "plt.scatter(\n",
    "            [item[0] for item in liste_plus_grands],\n",
    "            [item[1] for item in liste_plus_grands]\n",
    ")\n",
    "plt.suptitle(\"Les catégories les plus représentées dans la base SIRENE\");"
   ]
  },
  {
   "cell_type": "code",
   "execution_count": null,
   "metadata": {},
   "outputs": [],
   "source": []
  },
  {
   "source": [
    "On va maintenant essayer de clusteriser les données de ces champs, les plus peuplés : \n",
    "```python\n",
    "[('4932Z', 18565),\n",
    " ('6820A', 24650),\n",
    " ('6820B', 64432),\n",
    " ('7022Z', 36099),\n",
    " ('9499Z', 22757)]\n",
    " ```"
   ],
   "cell_type": "markdown",
   "metadata": {}
  },
  {
   "cell_type": "code",
   "execution_count": 58,
   "metadata": {},
   "outputs": [
    {
     "output_type": "execute_result",
     "data": {
      "text/plain": [
       "(19554, 4)"
      ]
     },
     "metadata": {},
     "execution_count": 58
    }
   ],
   "source": [
    "# On va créer un table avec juste des apet700=='4932Z'\n",
    "\n",
    "table_4932Z = df[df['apet700'] == '4932Z']\n",
    "table_4932Z.shape\n"
   ]
  },
  {
   "cell_type": "code",
   "execution_count": 57,
   "metadata": {},
   "outputs": [
    {
     "output_type": "execute_result",
     "data": {
      "text/plain": [
       "    index apet700                 libtefet  \\\n",
       "1       1   4932Z              00-0salarié   \n",
       "36     42   4932Z              00-0salarié   \n",
       "51     58   4932Z              00-0salarié   \n",
       "62     70   4932Z  NN-Unitésnonemployeuses   \n",
       "78     87   4932Z              00-0salarié   \n",
       "\n",
       "                                             geometry  \n",
       "1   {'type': 'Point', 'coordinates': [2.396281, 48...  \n",
       "36  {'type': 'Point', 'coordinates': [2.282955, 48...  \n",
       "51  {'type': 'Point', 'coordinates': [2.230273, 48...  \n",
       "62  {'type': 'Point', 'coordinates': [2.309378, 48...  \n",
       "78  {'type': 'Point', 'coordinates': [2.402212, 48...  "
      ],
      "text/html": "<div>\n<style scoped>\n    .dataframe tbody tr th:only-of-type {\n        vertical-align: middle;\n    }\n\n    .dataframe tbody tr th {\n        vertical-align: top;\n    }\n\n    .dataframe thead th {\n        text-align: right;\n    }\n</style>\n<table border=\"1\" class=\"dataframe\">\n  <thead>\n    <tr style=\"text-align: right;\">\n      <th></th>\n      <th>index</th>\n      <th>apet700</th>\n      <th>libtefet</th>\n      <th>geometry</th>\n    </tr>\n  </thead>\n  <tbody>\n    <tr>\n      <th>1</th>\n      <td>1</td>\n      <td>4932Z</td>\n      <td>00-0salarié</td>\n      <td>{'type': 'Point', 'coordinates': [2.396281, 48...</td>\n    </tr>\n    <tr>\n      <th>36</th>\n      <td>42</td>\n      <td>4932Z</td>\n      <td>00-0salarié</td>\n      <td>{'type': 'Point', 'coordinates': [2.282955, 48...</td>\n    </tr>\n    <tr>\n      <th>51</th>\n      <td>58</td>\n      <td>4932Z</td>\n      <td>00-0salarié</td>\n      <td>{'type': 'Point', 'coordinates': [2.230273, 48...</td>\n    </tr>\n    <tr>\n      <th>62</th>\n      <td>70</td>\n      <td>4932Z</td>\n      <td>NN-Unitésnonemployeuses</td>\n      <td>{'type': 'Point', 'coordinates': [2.309378, 48...</td>\n    </tr>\n    <tr>\n      <th>78</th>\n      <td>87</td>\n      <td>4932Z</td>\n      <td>00-0salarié</td>\n      <td>{'type': 'Point', 'coordinates': [2.402212, 48...</td>\n    </tr>\n  </tbody>\n</table>\n</div>"
     },
     "metadata": {},
     "execution_count": 57
    }
   ],
   "source": []
  },
  {
   "cell_type": "code",
   "execution_count": null,
   "metadata": {},
   "outputs": [],
   "source": []
  }
 ]
}